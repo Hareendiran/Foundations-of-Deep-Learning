{
 "cells": [
  {
   "cell_type": "code",
   "execution_count": 1,
   "metadata": {
    "colab": {
     "base_uri": "https://localhost:8080/",
     "height": 412
    },
    "id": "AbAT063lKokQ",
    "outputId": "f94c761a-bdbf-411c-a5d7-5b9d0bf9c349"
   },
   "outputs": [
    {
     "name": "stdout",
     "output_type": "stream",
     "text": [
      "Requirement already satisfied: h5py in c:\\users\\haree\\anaconda3\\envs\\sem5_py_37\\lib\\site-packages (3.7.0)\n",
      "Requirement already satisfied: numpy in c:\\users\\haree\\anaconda3\\envs\\sem5_py_37\\lib\\site-packages (1.21.5)\n"
     ]
    }
   ],
   "source": [
    "!pip install h5py numpy\n"
   ]
  },
  {
   "cell_type": "code",
   "execution_count": 2,
   "metadata": {},
   "outputs": [
    {
     "name": "stdout",
     "output_type": "stream",
     "text": [
      "Train dataset keys: ['images', 'labels']\n",
      "Test dataset keys: ['images', 'labels']\n"
     ]
    }
   ],
   "source": [
    "import h5py\n",
    "import numpy as np\n",
    "\n",
    "# Load the datasets (ensure the files are in the same directory as the notebook)\n",
    "train_dataset = h5py.File('Train.h5', \"r\")\n",
    "test_dataset = h5py.File('Test.h5', \"r\")\n",
    "\n",
    "# Inspect the keys in the train and test datasets\n",
    "print(\"Train dataset keys:\", list(train_dataset.keys()))\n",
    "print(\"Test dataset keys:\", list(test_dataset.keys()))\n"
   ]
  },
  {
   "cell_type": "code",
   "execution_count": 3,
   "metadata": {},
   "outputs": [
    {
     "name": "stdout",
     "output_type": "stream",
     "text": [
      "Training data shape: (2626, 128, 128, 3), (2626, 5)\n",
      "Test data shape: (120, 128, 128, 3), (120, 5)\n"
     ]
    }
   ],
   "source": [
    "# Use the correct keys based on your inspection\n",
    "X_train = np.array(train_dataset['images'][:])\n",
    "Y_train = np.array(train_dataset['labels'][:])\n",
    "X_test = np.array(test_dataset['images'][:])\n",
    "Y_test = np.array(test_dataset['labels'][:])\n",
    "\n",
    "# Normalize the data\n",
    "X_train = X_train / 255.0\n",
    "X_test = X_test / 255.0\n",
    "\n",
    "# Convert labels to one-hot encoding\n",
    "Y_train = np.eye(np.max(Y_train) + 1)[Y_train.reshape(-1)]\n",
    "Y_test = np.eye(np.max(Y_test) + 1)[Y_test.reshape(-1)]\n",
    "\n",
    "print(f\"Training data shape: {X_train.shape}, {Y_train.shape}\")\n",
    "print(f\"Test data shape: {X_test.shape}, {Y_test.shape}\")\n"
   ]
  },
  {
   "cell_type": "code",
   "execution_count": 4,
   "metadata": {},
   "outputs": [],
   "source": [
    "def softmax(Z):\n",
    "\n",
    "    exp_Z = np.exp(Z - np.max(Z, axis=1, keepdims=True))\n",
    "    return exp_Z / exp_Z.sum(axis=1, keepdims=True)\n"
   ]
  },
  {
   "cell_type": "code",
   "execution_count": 5,
   "metadata": {},
   "outputs": [],
   "source": [
    "def compute_cost(Y, Y_hat):\n",
    "\n",
    "    m = Y.shape[0]\n",
    "    cost = -np.sum(Y * np.log(Y_hat + 1e-8)) / m\n",
    "    return cost\n"
   ]
  },
  {
   "cell_type": "code",
   "execution_count": 6,
   "metadata": {},
   "outputs": [],
   "source": [
    "def gradient_descent(X, Y, learning_rate=0.01, epochs=1000):\n",
    "\n",
    "    m, h, w, c = X.shape\n",
    "    n = h * w * c  # Flattened feature size\n",
    "    X_flat = X.reshape(m, n)  # Flatten images\n",
    "\n",
    "    k = Y.shape[1]  # number of classes\n",
    "    W = np.zeros((n, k))\n",
    "    b = np.zeros((1, k))\n",
    "    \n",
    "    for i in range(epochs):\n",
    "        # Forward propagation\n",
    "        Z = np.dot(X_flat, W) + b\n",
    "        Y_hat = softmax(Z)\n",
    "        \n",
    "        # Compute cost\n",
    "        cost = compute_cost(Y, Y_hat)\n",
    "        \n",
    "        # Backward propagation (calculating gradients)\n",
    "        dW = np.dot(X_flat.T, (Y_hat - Y)) / m\n",
    "        db = np.sum(Y_hat - Y, axis=0, keepdims=True) / m\n",
    "        \n",
    "        # Update parameters\n",
    "        W -= learning_rate * dW\n",
    "        b -= learning_rate * db\n",
    "        \n",
    "        # Print cost every 100 epochs\n",
    "        if i % 100 == 0:\n",
    "            print(f\"Cost after epoch {i}: {cost}\")\n",
    "    \n",
    "    return W, b\n"
   ]
  },
  {
   "cell_type": "code",
   "execution_count": null,
   "metadata": {},
   "outputs": [
    {
     "name": "stdout",
     "output_type": "stream",
     "text": [
      "Cost after epoch 0: 1.609437862434102\n"
     ]
    }
   ],
   "source": [
    "def predict(X, W, b):\n",
    "\n",
    "    m, h, w, c = X.shape\n",
    "    n = h * w * c\n",
    "    X_flat = X.reshape(m, n)  # Flatten images\n",
    "    \n",
    "    Z = np.dot(X_flat, W) + b\n",
    "    Y_hat = softmax(Z)\n",
    "    return np.argmax(Y_hat, axis=1)\n",
    "\n",
    "# Train the model\n",
    "W, b = gradient_descent(X_train, Y_train, learning_rate=0.01, epochs=1000)\n",
    "\n",
    "# Predict on the test set\n",
    "predictions = predict(X_test, W, b)\n",
    "\n",
    "# Calculate accuracy\n",
    "Y_test_flat = np.argmax(Y_test, axis=1)  # Flatten test labels to match predictions\n",
    "accuracy = np.mean(predictions == Y_test_flat)\n",
    "print(f\"Test set accuracy: {accuracy * 100:.2f}%\")\n"
   ]
  }
 ],
 "metadata": {
  "colab": {
   "provenance": []
  },
  "kernelspec": {
   "display_name": "Python 3 (ipykernel)",
   "language": "python",
   "name": "python3"
  },
  "language_info": {
   "codemirror_mode": {
    "name": "ipython",
    "version": 3
   },
   "file_extension": ".py",
   "mimetype": "text/x-python",
   "name": "python",
   "nbconvert_exporter": "python",
   "pygments_lexer": "ipython3",
   "version": "3.7.1"
  }
 },
 "nbformat": 4,
 "nbformat_minor": 1
}
